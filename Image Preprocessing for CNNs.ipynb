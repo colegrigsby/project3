{
 "cells": [
  {
   "cell_type": "code",
   "execution_count": 103,
   "metadata": {
    "collapsed": false
   },
   "outputs": [],
   "source": [
    "from IPython.display import Image\n",
    "import numpy as np\n",
    "import pandas as pd\n",
    "import os\n",
    "from keras.preprocessing.image import ImageDataGenerator\n",
    "from matplotlib import pyplot\n",
    "import matplotlib.pylab as plt"
   ]
  },
  {
   "cell_type": "markdown",
   "metadata": {},
   "source": [
    "## Image Preprocessing\n",
    "\n",
    "Short Notebook on image preprocessing in Keras.\n",
    "\n",
    "Basic idea is to declare an imageGenerator variable, then pass in the parameters what features you want to do. The below image does divides the inputs by the std deviation of the dataset (feature wise)."
   ]
  },
  {
   "cell_type": "code",
   "execution_count": 157,
   "metadata": {
    "collapsed": false
   },
   "outputs": [
    {
     "data": {
      "text/plain": [
       "array([[[[ 0.66666669,  0.49019608,  0.40000001],\n",
       "         [ 0.66666669,  0.49019608,  0.40000001],\n",
       "         [ 0.66666669,  0.49019608,  0.40000001],\n",
       "         ..., \n",
       "         [ 0.40000001,  0.29803923,  0.25882354],\n",
       "         [ 0.40000001,  0.29803923,  0.25882354],\n",
       "         [ 0.39215687,  0.29019609,  0.25098041]]],\n",
       "\n",
       "\n",
       "       [[[ 0.66666669,  0.49019608,  0.40000001],\n",
       "         [ 0.66666669,  0.49019608,  0.40000001],\n",
       "         [ 0.66666669,  0.49019608,  0.40000001],\n",
       "         ..., \n",
       "         [ 0.39607844,  0.29411766,  0.25490198],\n",
       "         [ 0.39215687,  0.29019609,  0.25098041],\n",
       "         [ 0.38431373,  0.28235295,  0.24313726]]],\n",
       "\n",
       "\n",
       "       [[[ 0.66666669,  0.49019608,  0.40000001],\n",
       "         [ 0.66666669,  0.49019608,  0.40000001],\n",
       "         [ 0.66666669,  0.49019608,  0.40000001],\n",
       "         ..., \n",
       "         [ 0.39607844,  0.29411766,  0.25490198],\n",
       "         [ 0.3882353 ,  0.28627452,  0.24705882],\n",
       "         [ 0.38431373,  0.28235295,  0.24313726]]],\n",
       "\n",
       "\n",
       "       ..., \n",
       "       [[[ 0.6156863 ,  0.33725491,  0.40392157],\n",
       "         [ 0.61960787,  0.34117648,  0.40784314],\n",
       "         [ 0.61960787,  0.34117648,  0.40784314],\n",
       "         ..., \n",
       "         [ 0.42745098,  0.34509805,  0.43921569],\n",
       "         [ 0.36470589,  0.27843139,  0.37254903],\n",
       "         [ 0.40784314,  0.26666668,  0.34509805]]],\n",
       "\n",
       "\n",
       "       [[[ 0.61176473,  0.34117648,  0.40392157],\n",
       "         [ 0.6156863 ,  0.34509805,  0.40784314],\n",
       "         [ 0.6156863 ,  0.34509805,  0.40784314],\n",
       "         ..., \n",
       "         [ 0.36470589,  0.25882354,  0.34117648],\n",
       "         [ 0.36470589,  0.25490198,  0.33725491],\n",
       "         [ 0.4509804 ,  0.27058825,  0.34509805]]],\n",
       "\n",
       "\n",
       "       [[[ 0.61176473,  0.34117648,  0.40392157],\n",
       "         [ 0.6156863 ,  0.34509805,  0.40784314],\n",
       "         [ 0.6156863 ,  0.34509805,  0.40784314],\n",
       "         ..., \n",
       "         [ 0.36862746,  0.26274511,  0.34509805],\n",
       "         [ 0.38431373,  0.27450982,  0.35686275],\n",
       "         [ 0.46666667,  0.28235295,  0.35686275]]]], dtype=float32)"
      ]
     },
     "execution_count": 157,
     "metadata": {},
     "output_type": "execute_result"
    }
   ],
   "source": [
    "# Preview Image\n",
    "Image(filename='/data/face_dataset/train/1/p1-v1051-n00001.png')\n",
    "\n",
    "# Save img to variable\n",
    "raw_image = plt.imread('/data/face_dataset/train/1/p1-v1051-n00001.png')\n",
    "\n",
    "\n",
    "#Reshape data\n",
    "train = np.expand_dims(raw_image, axis=1)\n",
    "\n",
    "\n",
    "datagen = ImageDataGenerator(featurewise_std_normalization=True)\n",
    "\n",
    "datagen.fit(train)\n",
    "\n",
    "train\n"
   ]
  },
  {
   "cell_type": "code",
   "execution_count": null,
   "metadata": {
    "collapsed": false
   },
   "outputs": [],
   "source": []
  }
 ],
 "metadata": {
  "kernelspec": {
   "display_name": "Python 3",
   "language": "python",
   "name": "python3"
  },
  "language_info": {
   "codemirror_mode": {
    "name": "ipython",
    "version": 3
   },
   "file_extension": ".py",
   "mimetype": "text/x-python",
   "name": "python",
   "nbconvert_exporter": "python",
   "pygments_lexer": "ipython3",
   "version": "3.5.2"
  }
 },
 "nbformat": 4,
 "nbformat_minor": 2
}
