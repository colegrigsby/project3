{
 "cells": [
  {
   "cell_type": "markdown",
   "metadata": {},
   "source": [
    "# Tensorflow Demo: MNIST for Experts\n",
    "\n",
    "Before start using this, please select `Cell` - `All Output` - `Clear` to clear the old results. See [TensorFlow Tutorial](https://www.tensorflow.org/versions/master/tutorials/mnist/beginners/index.html) for details of the tutorial."
   ]
  },
  {
   "cell_type": "markdown",
   "metadata": {},
   "source": [
    "# Loading MNIST training data\n"
   ]
  },
  {
   "cell_type": "code",
   "execution_count": 1,
   "metadata": {
    "collapsed": false
   },
   "outputs": [],
   "source": [
    "# Import tensorflow\n",
    "import tensorflow as tf\n",
    "import os\n",
    "import numpy as np\n",
    "\n",
    "# import MNIST data\n",
    "from tensorflow.examples.tutorials.mnist import input_data\n",
    "from tensorflow.contrib.learn.python.learn.datasets import base\n",
    "#mnist = input_data.read_data_sets(\"MNIST_data/\", one_hot=True)\n",
    "from tensorflow.python.framework import dtypes\n",
    "from tensorflow.python.framework import random_seed\n",
    "import matplotlib.pyplot as plt\n",
    "from skimage.io import imread"
   ]
  },
  {
   "cell_type": "code",
   "execution_count": null,
   "metadata": {
    "collapsed": false
   },
   "outputs": [],
   "source": []
  },
  {
   "cell_type": "code",
   "execution_count": 2,
   "metadata": {
    "collapsed": false
   },
   "outputs": [],
   "source": [
    "# class DataSet(object):\n",
    "\n",
    "#     def __init__(self,\n",
    "#                images,\n",
    "#                labels,\n",
    "#                fake_data=False,\n",
    "#                one_hot=False,\n",
    "#                dtype=dtypes.float32,\n",
    "#                reshape=True,\n",
    "#                seed=None):\n",
    "#         \"\"\"Construct a DataSet.\n",
    "#         one_hot arg is used only if fake_data is true.  `dtype` can be either\n",
    "#         `uint8` to leave the input as `[0, 255]`, or `float32` to rescale into\n",
    "#         `[0, 1]`.  Seed arg provides for convenient deterministic testing.\"\"\"\n",
    "#         seed1, seed2 = random_seed.get_seed(seed)\n",
    "#         # If op level seed is not set, use whatever graph level seed is returned\n",
    "#         np.random.seed(seed1 if seed is None else seed2)\n",
    "#         dtype = dtypes.as_dtype(dtype).base_dtype\n",
    "#         if dtype not in (dtypes.uint8, dtypes.float32):\n",
    "#             raise TypeError('Invalid image dtype %r, expected uint8 or float32' %\n",
    "#                           dtype)\n",
    "#         if fake_data:\n",
    "#             self._num_examples = 10000\n",
    "#             self.one_hot = one_hot\n",
    "#         else:\n",
    "#             assert images.shape[0] == labels.shape[0], (\n",
    "#             'images.shape: %s labels.shape: %s' % (images.shape, labels.shape))\n",
    "#             self._num_examples = images.shape[0]\n",
    "\n",
    "#             # Convert shape from [num examples, rows, columns, depth]\n",
    "#             # to [num examples, rows*columns] (assuming depth == 1)\n",
    "#             if reshape:\n",
    "#                 assert images.shape[3] == 1\n",
    "#                 images = images.reshape(images.shape[0],\n",
    "#                             images.shape[1] * images.shape[2])\n",
    "#             if dtype == dtypes.float32:\n",
    "#                 # Convert from [0, 255] -> [0.0, 1.0].\n",
    "#                 #images = images.astype(np.float32)\n",
    "#                 images = np.multiply(images, 1.0 / 255.0)\n",
    "#         self._images = images\n",
    "#         self._labels = labels\n",
    "#         self._epochs_completed = 0\n",
    "#         self._index_in_epoch = 0\n",
    "\n",
    "#     @property\n",
    "#     def images(self):\n",
    "#         return self._images\n",
    "\n",
    "#     @property\n",
    "#     def labels(self):\n",
    "#         return self._labels\n",
    "\n",
    "#     @property\n",
    "#     def num_examples(self):\n",
    "#         return self._num_examples\n",
    "\n",
    "#     @property\n",
    "#     def epochs_completed(self):\n",
    "#         return self._epochs_completed\n",
    "\n",
    "#     def next_batch(self, batch_size, fake_data=False, shuffle=True):\n",
    "#         \"\"\"Return the next `batch_size` examples from this data set.\"\"\"\n",
    "#         if fake_data:\n",
    "#             fake_image = [1] * 6020\n",
    "#             if self.one_hot:\n",
    "#                 fake_label = [1] + [0] * 9\n",
    "#             else:\n",
    "#                 fake_label = 0\n",
    "#             return [fake_image for _ in xrange(batch_size)], [\n",
    "#                 fake_label for _ in xrange(batch_size)]\n",
    "#         start = self._index_in_epoch\n",
    "#         # Shuffle for the first epoch\n",
    "#         if self._epochs_completed == 0 and start == 0 and shuffle:\n",
    "#             perm0 = np.arange(self._num_examples)\n",
    "#             np.random.shuffle(perm0)\n",
    "#             self._images = self.images[perm0]\n",
    "#             self._labels = self.labels[perm0]\n",
    "#         # Go to the next epoch\n",
    "#         if start + batch_size > self._num_examples:\n",
    "#             # Finished epoch\n",
    "#             self._epochs_completed += 1\n",
    "#             # Get the rest examples in this epoch\n",
    "#             rest_num_examples = self._num_examples - start\n",
    "#             images_rest_part = self._images[start:self._num_examples]\n",
    "#             labels_rest_part = self._labels[start:self._num_examples]\n",
    "#             # Shuffle the data\n",
    "#             if shuffle:\n",
    "#                 perm = np.arange(self._num_examples)\n",
    "#                 np.random.shuffle(perm)\n",
    "#                 self._images = self.images[perm]\n",
    "#                 self._labels = self.labels[perm]\n",
    "#             # Start next epoch\n",
    "#             start = 0\n",
    "#             self._index_in_epoch = batch_size - rest_num_examples\n",
    "#             end = self._index_in_epoch\n",
    "#             images_new_part = self._images[start:end]\n",
    "#             labels_new_part = self._labels[start:end]\n",
    "#             return np.concatenate((images_rest_part, images_new_part), axis=0) , np.concatenate((labels_rest_part, labels_new_part), axis=0)\n",
    "#         else:\n",
    "#             self._index_in_epoch += batch_size\n",
    "#             end = self._index_in_epoch\n",
    "#             return self._images[start:end], self._labels[start:end]\n",
    "\n",
    "\n",
    "# def read_data_sets(fake_data=False,\n",
    "#                    one_hot=False,\n",
    "#                    dtype=dtypes.float32,\n",
    "#                    reshape=True,\n",
    "#                    validation_size=5000,\n",
    "#                    seed=None):\n",
    "#     if fake_data:\n",
    "\n",
    "#         def fake():\n",
    "#             return DataSet(\n",
    "#               [], [], fake_data=True, one_hot=one_hot, dtype=dtype, seed=seed)\n",
    "\n",
    "#         train = fake()\n",
    "#         validation = fake()\n",
    "#         test = fake()\n",
    "#         return base.Datasets(train=train, validation=validation, test=test)\n",
    "    \n",
    "#     TRAIN = '/data/face_dataset/train/'\n",
    "#     TEST = '/data/face_dataset/test/'\n",
    "#     def read_images(direc, test=False):\n",
    "        \n",
    "#         pids = os.listdir(direc)\n",
    "#         images = [] \n",
    "#         labels = []\n",
    "#         for pid in pids:\n",
    "#             if test: \n",
    "#                 labels.append(pid) #TODO PID is a filename here \n",
    "#                 images.append(imread(direc + pid, dtype=np.uint8))\n",
    "#             else: \n",
    "#                 for image_file in os.listdir(direc + pid):\n",
    "#                     #imagefiles.append(image_file)\n",
    "#                     labels.append(pid)\n",
    "#                     images.append(imread(direc + pid + '/' + image_file))\n",
    "                    \n",
    "#         #print(images)\n",
    "#         return np.array(images), np.array(labels)\n",
    "    \n",
    "\n",
    "#     train_images, train_labels = read_images(TRAIN)\n",
    "#     test_images, test_labels = read_images(TEST, test=True)\n",
    "                              \n",
    "    \n",
    "                \n",
    "#     if not 0 <= validation_size <= len(train_images):\n",
    "#         raise ValueError(\n",
    "#             'Validation size should be between 0 and {}. Received: {}.'\n",
    "#             .format(len(train_images), validation_size))\n",
    "\n",
    "#     validation_images = train_images[:validation_size]\n",
    "#     validation_labels = train_labels[:validation_size]\n",
    "#     train_images = train_images[validation_size:]\n",
    "#     train_labels = train_labels[validation_size:]\n",
    "\n",
    "\n",
    "#     options = dict(dtype=dtypes.uint8, reshape=False, seed=seed)\n",
    "\n",
    "#     train = DataSet(train_images, train_labels, **options)\n",
    "#     validation = DataSet(validation_images, validation_labels, **options)\n",
    "#     test = DataSet(test_images, test_labels, **options)\n",
    "\n",
    "#     return base.Datasets(train=train, validation=validation, test=test)"
   ]
  },
  {
   "cell_type": "code",
   "execution_count": 3,
   "metadata": {
    "collapsed": false
   },
   "outputs": [],
   "source": [
    "# data = read_data_sets()"
   ]
  },
  {
   "cell_type": "code",
   "execution_count": 4,
   "metadata": {
    "collapsed": false
   },
   "outputs": [],
   "source": [
    "# mnist = data"
   ]
  },
  {
   "cell_type": "code",
   "execution_count": 5,
   "metadata": {
    "collapsed": false
   },
   "outputs": [],
   "source": [
    "# data.train.images"
   ]
  },
  {
   "cell_type": "code",
   "execution_count": 6,
   "metadata": {
    "collapsed": true
   },
   "outputs": [],
   "source": [
    "TRAIN = '/data/face_dataset/train/'\n",
    "TEST = '/data/face_dataset/test/'\n",
    "def read_images(direc, test=False):\n",
    "\n",
    "    pids = os.listdir(direc)\n",
    "    images = [] \n",
    "    labels = []\n",
    "    for pid in pids:\n",
    "        if test: \n",
    "            labels.append(pid) #TODO PID is a filename here \n",
    "            images.append(direc + pid)\n",
    "        else: \n",
    "            for image_file in os.listdir(direc + pid):\n",
    "                #imagefiles.append(image_file)\n",
    "                labels.append(int(pid))\n",
    "                images.append(direc + pid + '/' + image_file)\n",
    "\n",
    "    #print(images)\n",
    "    return np.array(images), np.array(labels)\n",
    "\n",
    "\n",
    "train_images, train_labels = read_images(TRAIN)\n",
    "test_images, test_labels = read_images(TEST, test=True)"
   ]
  },
  {
   "cell_type": "code",
   "execution_count": 7,
   "metadata": {
    "collapsed": false
   },
   "outputs": [],
   "source": [
    "#Reads an image from a file, decodes it into a dense tensor, and resizes it\n",
    "# to a fixed shape.\n",
    "label_order = train_labels.copy()\n",
    "label_order = set(label_order)\n",
    "label_order = sorted(list(label_order))\n",
    "\n",
    "def _parse_function(filename, label):\n",
    "    image_string = tf.read_file(filename)\n",
    "    image_decoded = tf.image.decode_image(image_string)\n",
    "    image_decoded = tf.divide(tf.to_float(image_decoded), tf.constant(255.0))\n",
    "    #print(image_decoded)\n",
    "    #image_resized = tf.image.resize_images(image_decoded, [64, 64])\n",
    "#     y_arr = np.zeros([398])\n",
    "#     ind = label_order.index(label)\n",
    "#     y_arr[ind] = 1\n",
    "#     print(y_arr)\n",
    "    \n",
    "    return tf.reshape(image_decoded, [12288]), label\n",
    "\n",
    "# A vector of filenames.\n",
    "#filenames = tf.constant(imagefiles)\n",
    "\n",
    "# `labels[i]` is the label for the image in `filenames[i].\n",
    "#labels = tf.constant(labels)\n",
    "\n",
    "dataset_train = tf.data.Dataset.from_tensor_slices((tf.constant(train_images), tf.constant(train_labels)))\n",
    "dataset_train = dataset_train.map(_parse_function)\n",
    "\n",
    "dataset_test = tf.data.Dataset.from_tensor_slices((tf.constant(test_images), tf.constant(test_labels)))\n",
    "dataset_test = dataset_test.map(_parse_function) "
   ]
  },
  {
   "cell_type": "code",
   "execution_count": 8,
   "metadata": {
    "collapsed": false
   },
   "outputs": [],
   "source": [
    "#mnist = dataset_train\n",
    "\n"
   ]
  },
  {
   "cell_type": "markdown",
   "metadata": {},
   "source": [
    "# Build a Multilayer Convolutional Network\n",
    "\n",
    "Getting 91% accuracy on MNIST is bad. It's almost embarrassingly bad. In this section, we'll fix that, jumping from a very simple model to something moderately sophisticated: a small convolutional neural network. This will get us to around 99.2% accuracy -- not state of the art, but respectable."
   ]
  },
  {
   "cell_type": "code",
   "execution_count": 9,
   "metadata": {
    "collapsed": true
   },
   "outputs": [],
   "source": [
    "x = tf.placeholder(tf.float32, [None, 12288])\n",
    "W = tf.Variable(tf.zeros([12288, 398]))\n",
    "b = tf.Variable(tf.zeros([398]))\n",
    "y_ = tf.placeholder(tf.float32, [None, 398])"
   ]
  },
  {
   "cell_type": "markdown",
   "metadata": {},
   "source": [
    "## Weight & Biases Initialization\n",
    "\n",
    "To create this model, we're going to need to create a lot of weights and biases. One should generally initialize weights with a small amount of noise for symmetry breaking, and to prevent 0 gradients. Since we're using ReLU neurons, it is also good practice to initialize them with a slightly positive initial bias to avoid \"dead neurons.\" Instead of doing this repeatedly while we build the model, let's create two handy functions to do it for us."
   ]
  },
  {
   "cell_type": "code",
   "execution_count": 10,
   "metadata": {
    "collapsed": true
   },
   "outputs": [],
   "source": [
    "def weight_variable(shape):\n",
    "    initial = tf.truncated_normal(shape, stddev=0.1)\n",
    "    return tf.Variable(initial)\n",
    "\n",
    "def bias_variable(shape):\n",
    "    initial = tf.constant(0.1, shape=shape)\n",
    "    return tf.Variable(initial)"
   ]
  },
  {
   "cell_type": "markdown",
   "metadata": {},
   "source": [
    "## Convolution & Pooling\n",
    "\n",
    "TensorFlow also gives us a lot of flexibility in convolution and pooling operations. How do we handle the boundaries? What is our stride size? In this example, we're always going to choose the vanilla version. Our convolutions uses a stride of one and are zero padded so that the output is the same size as the input.\n",
    "\n",
    "![](http://deeplearning.stanford.edu/wiki/images/6/6c/Convolution_schematic.gif)\n",
    "\n",
    "http://deeplearning.stanford.edu/wiki/index.php/Feature_extraction_using_convolution\n",
    "\n",
    "Our pooling is plain old max pooling over 2x2 blocks. To keep our code cleaner, let's also abstract those operations into functions.\n",
    "\n",
    "![](http://www.wildml.com/wp-content/uploads/2015/11/Screen-Shot-2015-11-05-at-2.18.38-PM.png)\n",
    "\n",
    "![](http://colah.github.io/posts/2014-07-Conv-Nets-Modular/img/Conv-9-Conv2Max2Conv2.png)\n",
    "\n",
    "http://colah.github.io/posts/2014-07-Conv-Nets-Modular/"
   ]
  },
  {
   "cell_type": "code",
   "execution_count": 11,
   "metadata": {
    "collapsed": true
   },
   "outputs": [],
   "source": [
    "def conv2d(x, W):\n",
    "    return tf.nn.conv2d(x, W, strides=[1, 1, 1, 1], padding='SAME')\n",
    "\n",
    "def max_pool_2x2(x):\n",
    "    return tf.nn.max_pool(x, ksize=[1, 2, 2, 1],\n",
    "                          strides=[1, 2, 2, 1], padding='SAME')"
   ]
  },
  {
   "cell_type": "markdown",
   "metadata": {},
   "source": [
    "## First Convolutional Layer\n",
    "\n",
    "We can now implement our first layer. It will consist of convolution, followed by max pooling. The convolutional will compute 32 features for each 5x5 patch. Its weight tensor will have a shape of [5, 5, 1, 32]. The first two dimensions are the patch size, the next is the number of input channels, and the last is the number of output channels. We will also have a bias vector with a component for each output channel."
   ]
  },
  {
   "cell_type": "code",
   "execution_count": 12,
   "metadata": {
    "collapsed": true
   },
   "outputs": [],
   "source": [
    "W_conv1 = weight_variable([5, 5, 3, 32])\n",
    "b_conv1 = bias_variable([32])"
   ]
  },
  {
   "cell_type": "markdown",
   "metadata": {},
   "source": [
    "To apply the layer, we first reshape x to a 4d tensor, with the second and third dimensions corresponding to image width and height, and the final dimension corresponding to the number of color channels."
   ]
  },
  {
   "cell_type": "code",
   "execution_count": 13,
   "metadata": {
    "collapsed": false
   },
   "outputs": [],
   "source": [
    "x_image = tf.reshape(x, [-1,64,64,3])"
   ]
  },
  {
   "cell_type": "markdown",
   "metadata": {},
   "source": [
    "We then convolve x_image with the weight tensor, add the bias, apply the ReLU function, and finally max pool."
   ]
  },
  {
   "cell_type": "code",
   "execution_count": 14,
   "metadata": {
    "collapsed": false
   },
   "outputs": [],
   "source": [
    "h_conv1 = tf.nn.relu(conv2d(x_image, W_conv1) + b_conv1)\n",
    "h_pool1 = max_pool_2x2(h_conv1)"
   ]
  },
  {
   "cell_type": "markdown",
   "metadata": {},
   "source": [
    "## Second Convolutional Layer\n",
    "\n",
    "In order to build a deep network, we stack several layers of this type. The second layer will have 64 features for each 5x5 patch."
   ]
  },
  {
   "cell_type": "code",
   "execution_count": 15,
   "metadata": {
    "collapsed": true
   },
   "outputs": [],
   "source": [
    "W_conv2 = weight_variable([5, 5, 32, 64])\n",
    "b_conv2 = bias_variable([64])\n",
    "\n",
    "h_conv2 = tf.nn.relu(conv2d(h_pool1, W_conv2) + b_conv2)\n",
    "h_pool2 = max_pool_2x2(h_conv2)"
   ]
  },
  {
   "cell_type": "markdown",
   "metadata": {},
   "source": [
    "## Densely Connected Layer\n",
    "\n",
    "Now that the image size has been reduced to 7x7, we add a fully-connected layer with 1024 neurons to allow processing on the entire image. We reshape the tensor from the pooling layer into a batch of vectors, multiply by a weight matrix, add a bias, and apply a ReLU."
   ]
  },
  {
   "cell_type": "code",
   "execution_count": 16,
   "metadata": {
    "collapsed": true
   },
   "outputs": [],
   "source": [
    "W_fc1 = weight_variable([16 * 16 * 64, 1024])\n",
    "b_fc1 = bias_variable([1024])\n",
    "\n",
    "h_pool2_flat = tf.reshape(h_pool2, [-1, 16*16*64])\n",
    "h_fc1 = tf.nn.relu(tf.matmul(h_pool2_flat, W_fc1) + b_fc1)"
   ]
  },
  {
   "cell_type": "markdown",
   "metadata": {},
   "source": [
    "### Dropout\n",
    "\n",
    "To reduce overfitting, we will apply dropout before the readout layer. We create a placeholder for the probability that a neuron's output is kept during dropout. This allows us to turn dropout on during training, and turn it off during testing. TensorFlow's tf.nn.dropout op automatically handles scaling neuron outputs in addition to masking them, so dropout just works without any additional scaling."
   ]
  },
  {
   "cell_type": "code",
   "execution_count": 17,
   "metadata": {
    "collapsed": false
   },
   "outputs": [],
   "source": [
    "keep_prob = tf.placeholder(tf.float32)\n",
    "h_fc1_drop = tf.nn.dropout(h_fc1, keep_prob) #don't start with this, its hard "
   ]
  },
  {
   "cell_type": "markdown",
   "metadata": {},
   "source": [
    "## Readout Layer\n",
    "\n",
    "Finally, we add a softmax layer, just like for the one layer softmax regression."
   ]
  },
  {
   "cell_type": "code",
   "execution_count": 18,
   "metadata": {
    "collapsed": false
   },
   "outputs": [],
   "source": [
    "W_fc2 = weight_variable([1024, 398])\n",
    "b_fc2 = bias_variable([398])\n",
    "\n",
    "y_conv=tf.nn.softmax(tf.matmul(h_fc1_drop, W_fc2) + b_fc2)"
   ]
  },
  {
   "cell_type": "markdown",
   "metadata": {},
   "source": [
    "## Train and Evaluate the Model\n",
    "\n",
    "How well does this model do? To train and evaluate it we will use code that is nearly identical to that for the simple one layer SoftMax network above. The differences are that: we will replace the steepest gradient descent optimizer with the more sophisticated ADAM optimizer; we will include the additional parameter keep_prob in feed_dict to control the dropout rate; and we will add logging to every 100th iteration in the training process.\n",
    "\n"
   ]
  },
  {
   "cell_type": "code",
   "execution_count": 19,
   "metadata": {
    "collapsed": false
   },
   "outputs": [
    {
     "name": "stdout",
     "output_type": "stream",
     "text": [
      "step 0, training accuracy 0.000000\n",
      "step 10, training accuracy 0.000000\n",
      "step 20, training accuracy 0.000000\n",
      "step 30, training accuracy 0.000000\n",
      "step 40, training accuracy 0.000000\n",
      "step 50, training accuracy 0.000000\n",
      "step 60, training accuracy 0.000000\n",
      "step 70, training accuracy 0.000000\n"
     ]
    },
    {
     "ename": "KeyboardInterrupt",
     "evalue": "",
     "output_type": "error",
     "traceback": [
      "\u001b[0;31m---------------------------------------------------------------------------\u001b[0m",
      "\u001b[0;31mKeyboardInterrupt\u001b[0m                         Traceback (most recent call last)",
      "\u001b[0;32m<ipython-input-19-eb42b2037b64>\u001b[0m in \u001b[0;36m<module>\u001b[0;34m()\u001b[0m\n\u001b[1;32m     20\u001b[0m     \u001b[0;31m# Run mini-batch training on 100 elements 20000 times.\u001b[0m\u001b[0;34m\u001b[0m\u001b[0;34m\u001b[0m\u001b[0m\n\u001b[1;32m     21\u001b[0m     \u001b[0;32mfor\u001b[0m \u001b[0mi\u001b[0m \u001b[0;32min\u001b[0m \u001b[0mrange\u001b[0m\u001b[0;34m(\u001b[0m\u001b[0;36m20000\u001b[0m\u001b[0;34m)\u001b[0m\u001b[0;34m:\u001b[0m\u001b[0;34m\u001b[0m\u001b[0m\n\u001b[0;32m---> 22\u001b[0;31m         \u001b[0mt\u001b[0m \u001b[0;34m=\u001b[0m \u001b[0msess\u001b[0m\u001b[0;34m.\u001b[0m\u001b[0mrun\u001b[0m\u001b[0;34m(\u001b[0m\u001b[0mitera\u001b[0m\u001b[0;34m.\u001b[0m\u001b[0mget_next\u001b[0m\u001b[0;34m(\u001b[0m\u001b[0;34m)\u001b[0m\u001b[0;34m)\u001b[0m\u001b[0;34m\u001b[0m\u001b[0m\n\u001b[0m\u001b[1;32m     23\u001b[0m         \u001b[0;31m#print(t[0][0], t[1])\u001b[0m\u001b[0;34m\u001b[0m\u001b[0;34m\u001b[0m\u001b[0m\n\u001b[1;32m     24\u001b[0m \u001b[0;34m\u001b[0m\u001b[0m\n",
      "\u001b[0;32m/opt/conda/lib/python3.5/site-packages/tensorflow/python/client/session.py\u001b[0m in \u001b[0;36mrun\u001b[0;34m(self, fetches, feed_dict, options, run_metadata)\u001b[0m\n\u001b[1;32m    887\u001b[0m     \u001b[0;32mtry\u001b[0m\u001b[0;34m:\u001b[0m\u001b[0;34m\u001b[0m\u001b[0m\n\u001b[1;32m    888\u001b[0m       result = self._run(None, fetches, feed_dict, options_ptr,\n\u001b[0;32m--> 889\u001b[0;31m                          run_metadata_ptr)\n\u001b[0m\u001b[1;32m    890\u001b[0m       \u001b[0;32mif\u001b[0m \u001b[0mrun_metadata\u001b[0m\u001b[0;34m:\u001b[0m\u001b[0;34m\u001b[0m\u001b[0m\n\u001b[1;32m    891\u001b[0m         \u001b[0mproto_data\u001b[0m \u001b[0;34m=\u001b[0m \u001b[0mtf_session\u001b[0m\u001b[0;34m.\u001b[0m\u001b[0mTF_GetBuffer\u001b[0m\u001b[0;34m(\u001b[0m\u001b[0mrun_metadata_ptr\u001b[0m\u001b[0;34m)\u001b[0m\u001b[0;34m\u001b[0m\u001b[0m\n",
      "\u001b[0;32m/opt/conda/lib/python3.5/site-packages/tensorflow/python/client/session.py\u001b[0m in \u001b[0;36m_run\u001b[0;34m(self, handle, fetches, feed_dict, options, run_metadata)\u001b[0m\n\u001b[1;32m   1118\u001b[0m     \u001b[0;32mif\u001b[0m \u001b[0mfinal_fetches\u001b[0m \u001b[0;32mor\u001b[0m \u001b[0mfinal_targets\u001b[0m \u001b[0;32mor\u001b[0m \u001b[0;34m(\u001b[0m\u001b[0mhandle\u001b[0m \u001b[0;32mand\u001b[0m \u001b[0mfeed_dict_tensor\u001b[0m\u001b[0;34m)\u001b[0m\u001b[0;34m:\u001b[0m\u001b[0;34m\u001b[0m\u001b[0m\n\u001b[1;32m   1119\u001b[0m       results = self._do_run(handle, final_targets, final_fetches,\n\u001b[0;32m-> 1120\u001b[0;31m                              feed_dict_tensor, options, run_metadata)\n\u001b[0m\u001b[1;32m   1121\u001b[0m     \u001b[0;32melse\u001b[0m\u001b[0;34m:\u001b[0m\u001b[0;34m\u001b[0m\u001b[0m\n\u001b[1;32m   1122\u001b[0m       \u001b[0mresults\u001b[0m \u001b[0;34m=\u001b[0m \u001b[0;34m[\u001b[0m\u001b[0;34m]\u001b[0m\u001b[0;34m\u001b[0m\u001b[0m\n",
      "\u001b[0;32m/opt/conda/lib/python3.5/site-packages/tensorflow/python/client/session.py\u001b[0m in \u001b[0;36m_do_run\u001b[0;34m(self, handle, target_list, fetch_list, feed_dict, options, run_metadata)\u001b[0m\n\u001b[1;32m   1315\u001b[0m     \u001b[0;32mif\u001b[0m \u001b[0mhandle\u001b[0m \u001b[0;32mis\u001b[0m \u001b[0;32mNone\u001b[0m\u001b[0;34m:\u001b[0m\u001b[0;34m\u001b[0m\u001b[0m\n\u001b[1;32m   1316\u001b[0m       return self._do_call(_run_fn, self._session, feeds, fetches, targets,\n\u001b[0;32m-> 1317\u001b[0;31m                            options, run_metadata)\n\u001b[0m\u001b[1;32m   1318\u001b[0m     \u001b[0;32melse\u001b[0m\u001b[0;34m:\u001b[0m\u001b[0;34m\u001b[0m\u001b[0m\n\u001b[1;32m   1319\u001b[0m       \u001b[0;32mreturn\u001b[0m \u001b[0mself\u001b[0m\u001b[0;34m.\u001b[0m\u001b[0m_do_call\u001b[0m\u001b[0;34m(\u001b[0m\u001b[0m_prun_fn\u001b[0m\u001b[0;34m,\u001b[0m \u001b[0mself\u001b[0m\u001b[0;34m.\u001b[0m\u001b[0m_session\u001b[0m\u001b[0;34m,\u001b[0m \u001b[0mhandle\u001b[0m\u001b[0;34m,\u001b[0m \u001b[0mfeeds\u001b[0m\u001b[0;34m,\u001b[0m \u001b[0mfetches\u001b[0m\u001b[0;34m)\u001b[0m\u001b[0;34m\u001b[0m\u001b[0m\n",
      "\u001b[0;32m/opt/conda/lib/python3.5/site-packages/tensorflow/python/client/session.py\u001b[0m in \u001b[0;36m_do_call\u001b[0;34m(self, fn, *args)\u001b[0m\n\u001b[1;32m   1321\u001b[0m   \u001b[0;32mdef\u001b[0m \u001b[0m_do_call\u001b[0m\u001b[0;34m(\u001b[0m\u001b[0mself\u001b[0m\u001b[0;34m,\u001b[0m \u001b[0mfn\u001b[0m\u001b[0;34m,\u001b[0m \u001b[0;34m*\u001b[0m\u001b[0margs\u001b[0m\u001b[0;34m)\u001b[0m\u001b[0;34m:\u001b[0m\u001b[0;34m\u001b[0m\u001b[0m\n\u001b[1;32m   1322\u001b[0m     \u001b[0;32mtry\u001b[0m\u001b[0;34m:\u001b[0m\u001b[0;34m\u001b[0m\u001b[0m\n\u001b[0;32m-> 1323\u001b[0;31m       \u001b[0;32mreturn\u001b[0m \u001b[0mfn\u001b[0m\u001b[0;34m(\u001b[0m\u001b[0;34m*\u001b[0m\u001b[0margs\u001b[0m\u001b[0;34m)\u001b[0m\u001b[0;34m\u001b[0m\u001b[0m\n\u001b[0m\u001b[1;32m   1324\u001b[0m     \u001b[0;32mexcept\u001b[0m \u001b[0merrors\u001b[0m\u001b[0;34m.\u001b[0m\u001b[0mOpError\u001b[0m \u001b[0;32mas\u001b[0m \u001b[0me\u001b[0m\u001b[0;34m:\u001b[0m\u001b[0;34m\u001b[0m\u001b[0m\n\u001b[1;32m   1325\u001b[0m       \u001b[0mmessage\u001b[0m \u001b[0;34m=\u001b[0m \u001b[0mcompat\u001b[0m\u001b[0;34m.\u001b[0m\u001b[0mas_text\u001b[0m\u001b[0;34m(\u001b[0m\u001b[0me\u001b[0m\u001b[0;34m.\u001b[0m\u001b[0mmessage\u001b[0m\u001b[0;34m)\u001b[0m\u001b[0;34m\u001b[0m\u001b[0m\n",
      "\u001b[0;32m/opt/conda/lib/python3.5/site-packages/tensorflow/python/client/session.py\u001b[0m in \u001b[0;36m_run_fn\u001b[0;34m(session, feed_dict, fetch_list, target_list, options, run_metadata)\u001b[0m\n\u001b[1;32m   1291\u001b[0m                 run_metadata):\n\u001b[1;32m   1292\u001b[0m       \u001b[0;31m# Ensure any changes to the graph are reflected in the runtime.\u001b[0m\u001b[0;34m\u001b[0m\u001b[0;34m\u001b[0m\u001b[0m\n\u001b[0;32m-> 1293\u001b[0;31m       \u001b[0mself\u001b[0m\u001b[0;34m.\u001b[0m\u001b[0m_extend_graph\u001b[0m\u001b[0;34m(\u001b[0m\u001b[0;34m)\u001b[0m\u001b[0;34m\u001b[0m\u001b[0m\n\u001b[0m\u001b[1;32m   1294\u001b[0m       \u001b[0;32mwith\u001b[0m \u001b[0merrors\u001b[0m\u001b[0;34m.\u001b[0m\u001b[0mraise_exception_on_not_ok_status\u001b[0m\u001b[0;34m(\u001b[0m\u001b[0;34m)\u001b[0m \u001b[0;32mas\u001b[0m \u001b[0mstatus\u001b[0m\u001b[0;34m:\u001b[0m\u001b[0;34m\u001b[0m\u001b[0m\n\u001b[1;32m   1295\u001b[0m         \u001b[0;32mif\u001b[0m \u001b[0mself\u001b[0m\u001b[0;34m.\u001b[0m\u001b[0m_created_with_new_api\u001b[0m\u001b[0;34m:\u001b[0m\u001b[0;34m\u001b[0m\u001b[0m\n",
      "\u001b[0;32m/opt/conda/lib/python3.5/site-packages/tensorflow/python/client/session.py\u001b[0m in \u001b[0;36m_extend_graph\u001b[0;34m(self)\u001b[0m\n\u001b[1;32m   1352\u001b[0m         \u001b[0;32mwith\u001b[0m \u001b[0merrors\u001b[0m\u001b[0;34m.\u001b[0m\u001b[0mraise_exception_on_not_ok_status\u001b[0m\u001b[0;34m(\u001b[0m\u001b[0;34m)\u001b[0m \u001b[0;32mas\u001b[0m \u001b[0mstatus\u001b[0m\u001b[0;34m:\u001b[0m\u001b[0;34m\u001b[0m\u001b[0m\n\u001b[1;32m   1353\u001b[0m           tf_session.TF_ExtendGraph(\n\u001b[0;32m-> 1354\u001b[0;31m               self._session, graph_def.SerializeToString(), status)\n\u001b[0m\u001b[1;32m   1355\u001b[0m         \u001b[0mself\u001b[0m\u001b[0;34m.\u001b[0m\u001b[0m_opened\u001b[0m \u001b[0;34m=\u001b[0m \u001b[0;32mTrue\u001b[0m\u001b[0;34m\u001b[0m\u001b[0m\n\u001b[1;32m   1356\u001b[0m \u001b[0;34m\u001b[0m\u001b[0m\n",
      "\u001b[0;31mKeyboardInterrupt\u001b[0m: "
     ]
    }
   ],
   "source": [
    "# initialize variables and session\n",
    "# init = tf.global_variables_initializer()\n",
    "# sess = tf.Session()\n",
    "# sess.run(init)\n",
    "\n",
    "cross_entropy = tf.reduce_mean(-tf.reduce_sum(y_ * tf.log(y_conv), reduction_indices=[1]))\n",
    "\n",
    "train_step = tf.train.AdamOptimizer(1e-4).minimize(cross_entropy)\n",
    "correct_prediction = tf.equal(tf.argmax(y_conv,1), tf.argmax(y_,1))\n",
    "accuracy = tf.reduce_mean(tf.cast(correct_prediction, tf.float32))\n",
    "# sess.run(tf.initialize_all_variables())\n",
    "    \n",
    "BATCH_SIZE = 100 \n",
    "\n",
    "batch = dataset_train.batch(BATCH_SIZE) #TODO \n",
    "itera = batch.make_one_shot_iterator()\n",
    "\n",
    "with tf.Session() as sess:\n",
    "    sess.run(tf.global_variables_initializer())\n",
    "    # Run mini-batch training on 100 elements 20000 times.\n",
    "    for i in range(20000):\n",
    "        t = sess.run(itera.get_next())\n",
    "        #print(t[0][0], t[1])\n",
    "\n",
    "        #encoding \n",
    "        y_arr = np.zeros([BATCH_SIZE, 398])\n",
    "        for j in range(BATCH_SIZE):\n",
    "            ind = label_order.index(t[1][j])\n",
    "            y_arr[j][ind] = 1\n",
    "            #print(j)\n",
    "            #y_arr = np.reshape(y_arr, [-1, 398])\n",
    "        #print(len(t[0].reshape(BATCH_SIZE, 12288)))\n",
    "        if i%10 == 0:\n",
    "            #print(batch[0])\n",
    "            train_accuracy = accuracy.eval(feed_dict={\n",
    "                  x:t[0], y_: y_arr, keep_prob: 1.0})\n",
    "            #print(i)\n",
    "#             train_accuracy = sess.run(accuracy, feed_dict={\n",
    "#                  x:t[0].reshape(BATCH_SIZE, 12288), y_: y_arr, keep_prob: 1.0})\n",
    "            print(\"step %d, training accuracy %f\" % (i, train_accuracy))\n",
    "            #print(i)\n",
    "        # train_step.run(feed_dict={x: batch[0], y_: batch[1], keep_prob: 0.5})\n",
    "        #sess.run(itera.get_next())\n",
    "#         sess.run(train_step, feed_dict={x: t[0].reshape(BATCH_SIZE, 12288) , y_: y_arr, keep_prob: 0.5})\n",
    "        train_step.run(feed_dict={x: t[0] , y_: y_arr, keep_prob: 0.5})\n",
    "        #print(i, \"Completed epoch\")\n",
    "    # todo run the test data \n",
    "    # plug it in \n",
    "\n",
    "\n",
    "\n",
    "    #print(\"test accuracy %g\" % sess.run(accuracy, feed_dict={\n",
    "    #    x: mnist.test.images, y_: mnist.test.labels, keep_prob: 1.0}))"
   ]
  },
  {
   "cell_type": "code",
   "execution_count": null,
   "metadata": {
    "collapsed": false
   },
   "outputs": [],
   "source": []
  },
  {
   "cell_type": "markdown",
   "metadata": {},
   "source": [
    "The final test set accuracy after running this code should be approximately 99.2%.\n",
    "\n",
    "We have learned how to quickly and easily build, train, and evaluate a fairly sophisticated deep learning model using TensorFlow.\n",
    "\n",
    "1: For this small convolutional network, performance is actually nearly identical with and without dropout. Dropout is often very effective at reducing overfitting, but it is most useful when training very large neural networks."
   ]
  },
  {
   "cell_type": "markdown",
   "metadata": {},
   "source": [
    "# Visualizing with TensorBoard\n",
    "\n",
    "Visualize with [TensorBoard](https://www.tensorflow.org/tensorboard/index.html)."
   ]
  },
  {
   "cell_type": "markdown",
   "metadata": {},
   "source": [
    "![](https://www.tensorflow.org/versions/master/images/mnist_tensorboard.png)"
   ]
  },
  {
   "cell_type": "code",
   "execution_count": null,
   "metadata": {
    "collapsed": true
   },
   "outputs": [],
   "source": []
  },
  {
   "cell_type": "code",
   "execution_count": null,
   "metadata": {
    "collapsed": true
   },
   "outputs": [],
   "source": []
  }
 ],
 "metadata": {
  "kernelspec": {
   "display_name": "Python 3",
   "language": "python",
   "name": "python3"
  },
  "language_info": {
   "codemirror_mode": {
    "name": "ipython",
    "version": 3
   },
   "file_extension": ".py",
   "mimetype": "text/x-python",
   "name": "python",
   "nbconvert_exporter": "python",
   "pygments_lexer": "ipython3",
   "version": "3.5.2"
  }
 },
 "nbformat": 4,
 "nbformat_minor": 0
}
